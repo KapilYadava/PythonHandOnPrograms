{
 "cells": [
  {
   "cell_type": "code",
   "execution_count": 1,
   "metadata": {
    "collapsed": true
   },
   "outputs": [
    {
     "name": "stdout",
     "output_type": "stream",
     "text": [
      "\n",
      " Addition of two numbers is 30\n",
      "\n",
      " Subtraction of two numbers is 10\n",
      "\n",
      " Multiplication of two numbers is 200\n",
      "\n",
      " Division of two numbers is 2.0\n"
     ]
    }
   ],
   "source": [
    "a, b = 20, 10\n",
    "c = a + b\n",
    "print(\"\\n Addition of two numbers is\" , c)\n",
    "c = a - b\n",
    "print(\"\\n Subtraction of two numbers is\" , c)\n",
    "c = a * b\n",
    "print(\"\\n Multiplication of two numbers is\" , c)\n",
    "c = a / b\n",
    "print(\"\\n Division of two numbers is\" , c)\n"
   ]
  },
  {
   "cell_type": "code",
   "execution_count": null,
   "metadata": {},
   "outputs": [],
   "source": []
  }
 ],
 "metadata": {
  "kernelspec": {
   "display_name": "Python 3",
   "language": "python",
   "name": "python3"
  },
  "language_info": {
   "codemirror_mode": {
    "name": "ipython",
    "version": 3
   },
   "file_extension": ".py",
   "mimetype": "text/x-python",
   "name": "python",
   "nbconvert_exporter": "python",
   "pygments_lexer": "ipython3",
   "version": "3.6.4"
  }
 },
 "nbformat": 4,
 "nbformat_minor": 1
}
