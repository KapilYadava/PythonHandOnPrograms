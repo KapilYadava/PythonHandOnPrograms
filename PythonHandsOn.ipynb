{
 "cells": [
  {
   "cell_type": "code",
   "execution_count": 5,
   "metadata": {
    "collapsed": true
   },
   "outputs": [
    {
     "name": "stdout",
     "output_type": "stream",
     "text": [
      "\n Addition of two numbers is 30\n\n Subtraction of two numbers is 10\n\n Multiplication of two numbers is 200\n\n Division of two numbers is 2.0\n"
     ]
    }
   ],
   "source": [
    "a, b = 20, 10\n",
    "c = a + b\n",
    "print(\"\\n Addition of two numbers is\", c)\n",
    "c = a - b\n",
    "print(\"\\n Subtraction of two numbers is\", c)\n",
    "c = a * b\n",
    "print(\"\\n Multiplication of two numbers is\", c)\n",
    "c = a / b\n",
    "print(\"\\n Division of two numbers is\", c)\n"
   ]
  },
  {
   "cell_type": "code",
   "execution_count": 4,
   "metadata": {},
   "outputs": [
    {
     "name": "stdout",
     "output_type": "stream",
     "text": [
      "Biggest of three numbers is 30\n"
     ]
    }
   ],
   "source": [
    "a, b, c = 20, 10, 30\n",
    "if a > b and a > c:\n",
    "    print(\"Biggest of three numbers is\", a)\n",
    "if b > a and b> c:\n",
    "    print(\"Biggest of three numbers is\", b) \n",
    "if c > a and c > b:\n",
    "    print(\"Biggest of three numbers is\", c) \n"
   ]
  },
  {
   "cell_type": "code",
   "execution_count": 6,
   "metadata": {},
   "outputs": [
    {
     "ename": "NameError",
     "evalue": "name 'd' is not defined",
     "traceback": [
      "\u001b[0;31m---------------------------------------------------------------------------\u001b[0m",
      "\u001b[0;31mNameError\u001b[0m                                 Traceback (most recent call last)",
      "\u001b[0;32m<ipython-input-6-8590576cd9ca>\u001b[0m in \u001b[0;36m<module>\u001b[0;34m()\u001b[0m\n\u001b[1;32m      2\u001b[0m \u001b[0mb\u001b[0m \u001b[0;34m=\u001b[0m \u001b[0ma\u001b[0m \u001b[0;34m%\u001b[0m \u001b[0;36m2\u001b[0m\u001b[0;34m\u001b[0m\u001b[0m\n\u001b[1;32m      3\u001b[0m \u001b[0;32mif\u001b[0m \u001b[0mb\u001b[0m \u001b[0;34m==\u001b[0m \u001b[0;36m0\u001b[0m\u001b[0;34m:\u001b[0m\u001b[0;34m\u001b[0m\u001b[0m\n\u001b[0;32m----> 4\u001b[0;31m     \u001b[0mprint\u001b[0m\u001b[0;34m(\u001b[0m\u001b[0;34m\"Given number is\"\u001b[0m\u001b[0;34m,\u001b[0m \u001b[0md\u001b[0m\u001b[0;34m,\u001b[0m \u001b[0;34m\"even\"\u001b[0m\u001b[0;34m)\u001b[0m\u001b[0;34m\u001b[0m\u001b[0m\n\u001b[0m\u001b[1;32m      5\u001b[0m \u001b[0;32melse\u001b[0m\u001b[0;34m:\u001b[0m\u001b[0;34m\u001b[0m\u001b[0m\n\u001b[1;32m      6\u001b[0m     \u001b[0mprint\u001b[0m\u001b[0;34m(\u001b[0m\u001b[0;34m\"Given number is\"\u001b[0m\u001b[0;34m,\u001b[0m \u001b[0md\u001b[0m\u001b[0;34m,\u001b[0m \u001b[0;34m\"odd\"\u001b[0m\u001b[0;34m)\u001b[0m\u001b[0;34m\u001b[0m\u001b[0m\n",
      "\u001b[0;31mNameError\u001b[0m: name 'd' is not defined"
     ],
     "output_type": "error"
    }
   ],
   "source": [
    "a = 10\n",
    "b = a % 2\n",
    "if b == 0:\n",
    "    print(\"Given number is\", d, \"even\")\n",
    "else:\n",
    "    print(\"Given number is\", d, \"odd\")\n"
   ]
  },
  {
   "cell_type": "code",
   "execution_count": 10,
   "metadata": {},
   "outputs": [
    {
     "name": "stdout",
     "output_type": "stream",
     "text": [
      "The given number  7 is not prime\nThe given number  7 is prime\nThe given number  7 is prime\nThe given number  7 is prime\nThe given number  7 is prime\n"
     ]
    }
   ],
   "source": [
    "a = 7\n",
    "for i in range(1, a-1):\n",
    "    if a % i == 0:\n",
    "        print(\"The given number \", a, \"is not prime\")\n",
    "    else:\n",
    "        print(\"The given number \", a, \"is prime\")\n"
   ]
  },
  {
   "cell_type": "code",
   "execution_count": 13,
   "metadata": {},
   "outputs": [
    {
     "name": "stdout",
     "output_type": "stream",
     "text": [
      "First number is 10\nSecond number is 20\nThird number is 30\nThe biggest of three numbers is 30\n"
     ]
    }
   ],
   "source": [
    "\n",
    "arg1 = 10\n",
    "arg2 = 20\n",
    "arg3 = 30\n",
    "print (\"First number is\", arg1)\n",
    "print (\"Second number is\", arg2) \n",
    "print (\"Third number is\", arg3)\n",
    "print (\"The biggest of three numbers is\", max(arg1, arg2, arg3))\n"
   ]
  },
  {
   "cell_type": "code",
   "execution_count": 14,
   "metadata": {},
   "outputs": [
    {
     "name": "stdout",
     "output_type": "stream",
     "text": [
      "current letter is C\ncurrent letter is h\ncurrent letter is e\ncurrent letter is n\ncurrent letter is n\ncurrent letter is a\ncurrent letter is i\nSub string is enn\nRepeated string is  ChennaiChennaiChennaiChennaiChennai\nConcatenated string is  ChennaiCity\n"
     ]
    }
   ],
   "source": [
    "str1 = \"Chennai\" \n",
    "str2 = \"City\"\n",
    "for i in str1:\n",
    "    print (\"current letter is\", i)\n",
    "str3 = str1[2:5]\n",
    "print(\"Sub string is\", str3)\n",
    "print(\"Repeated string is \", str1 * 5)\n",
    "print(\"Concatenated string is \", str1 + str2)\n",
    "\n"
   ]
  },
  {
   "cell_type": "code",
   "execution_count": 16,
   "metadata": {},
   "outputs": [
    {
     "name": "stdout",
     "output_type": "stream",
     "text": [
      "\n [23, 'Hello']\n\n [12, 23, 'Hello', 60.6, 'Chennai', 12, 23, 'Hello', 60.6, 'Chennai']\n\n [12, 23, 'Hello', 60.6, 'Chennai', 21, 32, 60]\n"
     ]
    }
   ],
   "source": [
    "List1 = [12, 23, 'Hello', 60.6, 'Chennai']\n",
    "List2 = [21, 32, 60]\n",
    "a = List1 [1:3]\n",
    "b = List1 * 2\n",
    "c = List1 + List2\n",
    "print('\\n', a)\n",
    "print('\\n', b)\n",
    "print('\\n', c)\n"
   ]
  },
  {
   "cell_type": "code",
   "execution_count": 18,
   "metadata": {},
   "outputs": [
    {
     "name": "stdout",
     "output_type": "stream",
     "text": [
      "\n (23, 'Hello')\n\n (12, 23, 'Hello', 60.6, 'Chennai', 12, 23, 'Hello', 60.6, 'Chennai')\n\n (12, 23, 'Hello', 60.6, 'Chennai', 21, 32, 60)\n"
     ]
    }
   ],
   "source": [
    "Tuple1 = (12, 23, 'Hello', 60.6, 'Chennai')\n",
    "Tuple2 = (21, 32, 60)\n",
    "a = Tuple1[1:3]\n",
    "b = Tuple1 * 2\n",
    "c = Tuple1 + Tuple2\n",
    "print('\\n', a)\n",
    "print('\\n', b)\n",
    "print('\\n', c)\n"
   ]
  },
  {
   "cell_type": "code",
   "execution_count": 19,
   "metadata": {},
   "outputs": [
    {
     "name": "stdout",
     "output_type": "stream",
     "text": [
      "\n Addition of two numbers is (40+60j)\n\n Subtraction of two numbers is (-20-20j)\n\n Multiplication of two numbers is (-500+1000j)\n\n Division of two numbers is (0.44+0.08j)\n"
     ]
    }
   ],
   "source": [
    "arg = [10, 20, 30, 40]\n",
    "\n",
    "a = complex(arg[0], arg[1])\n",
    "b = complex(arg[2], arg[3])\n",
    "c = a + b\n",
    "print('\\n Addition of two numbers is', c)\n",
    "c = a - b\n",
    "print('\\n Subtraction of two numbers is', c)\n",
    "c = a * b\n",
    "print('\\n Multiplication of two numbers is', c)\n",
    "c = a / b\n",
    "print('\\n Division of two numbers is', c)\n"
   ]
  },
  {
   "cell_type": "code",
   "execution_count": 21,
   "metadata": {},
   "outputs": [
    {
     "ename": "NameError",
     "evalue": "name 'e' is not defined",
     "traceback": [
      "\u001b[0;31m---------------------------------------------------------------------------\u001b[0m",
      "\u001b[0;31mNameError\u001b[0m                                 Traceback (most recent call last)",
      "\u001b[0;32m<ipython-input-21-f888041c9818>\u001b[0m in \u001b[0;36m<module>\u001b[0;34m()\u001b[0m\n\u001b[1;32m      1\u001b[0m \u001b[0marg\u001b[0m\u001b[0;34m[\u001b[0m\u001b[0;36m0\u001b[0m\u001b[0;34m]\u001b[0m \u001b[0;34m+=\u001b[0m \u001b[0marg\u001b[0m\u001b[0;34m[\u001b[0m\u001b[0;36m1\u001b[0m\u001b[0;34m]\u001b[0m\u001b[0;34m\u001b[0m\u001b[0m\n\u001b[0;32m----> 2\u001b[0;31m \u001b[0mprint\u001b[0m \u001b[0;34m(\u001b[0m\u001b[0;34m'\\n Addition of two numbers is'\u001b[0m\u001b[0;34m,\u001b[0m \u001b[0me\u001b[0m\u001b[0;34m)\u001b[0m\u001b[0;34m\u001b[0m\u001b[0m\n\u001b[0m\u001b[1;32m      3\u001b[0m \u001b[0marg\u001b[0m\u001b[0;34m[\u001b[0m\u001b[0;36m0\u001b[0m\u001b[0;34m]\u001b[0m \u001b[0;34m-=\u001b[0m \u001b[0marg\u001b[0m\u001b[0;34m[\u001b[0m\u001b[0;36m1\u001b[0m\u001b[0;34m]\u001b[0m\u001b[0;34m\u001b[0m\u001b[0m\n\u001b[1;32m      4\u001b[0m \u001b[0mprint\u001b[0m \u001b[0;34m(\u001b[0m\u001b[0;34m'\\n Subtraction of two numbers is'\u001b[0m\u001b[0;34m,\u001b[0m \u001b[0me\u001b[0m\u001b[0;34m)\u001b[0m\u001b[0;34m\u001b[0m\u001b[0m\n\u001b[1;32m      5\u001b[0m \u001b[0marg\u001b[0m\u001b[0;34m[\u001b[0m\u001b[0;36m0\u001b[0m\u001b[0;34m]\u001b[0m \u001b[0;34m*=\u001b[0m \u001b[0marg\u001b[0m\u001b[0;34m[\u001b[0m\u001b[0;36m1\u001b[0m\u001b[0;34m]\u001b[0m\u001b[0;34m\u001b[0m\u001b[0m\n",
      "\u001b[0;31mNameError\u001b[0m: name 'e' is not defined"
     ],
     "output_type": "error"
    }
   ],
   "source": [
    "arg = [10, 20, 30, 40]\n",
    "\n",
    "arg[0] += arg[1]\n",
    "print ('\\n Addition of two numbers is', e)\n",
    "arg[0] -= arg[1]\n",
    "print ('\\n Subtraction of two numbers is', e)\n",
    "arg[0] *= arg[1]\n",
    "print ('\\n Multiplication of two numbers is', e)\n",
    "arg[0] /= arg[1]\n",
    "print ('\\n Division of two numbers is', e)\n",
    "arg[0] %= arg[1]\n",
    "print ('\\n modulus of two numbers is', e)\n",
    "arg[0] **= arg[1]\n",
    "print ('\\n Exponentiation of two numbers is', e)\n",
    "arg[0] //= arg[1]\n",
    "print('\\n Floor division of two numbers is', e)\n"
   ]
  },
  {
   "cell_type": "code",
   "execution_count": 23,
   "metadata": {},
   "outputs": [
    {
     "name": "stdout",
     "output_type": "stream",
     "text": [
      "20\n10\nFalse\n"
     ]
    }
   ],
   "source": [
    "arg = [10, 20, 30, 40]\n",
    "\n",
    "a = arg[0] and arg[1]\n",
    "b = arg[0] or arg[1]\n",
    "c = not(arg[0] and arg[1])\n",
    "print(a)\n",
    "print(b)\n",
    "print(c)\n"
   ]
  },
  {
   "cell_type": "code",
   "execution_count": null,
   "metadata": {},
   "outputs": [],
   "source": []
  },
  {
   "cell_type": "code",
   "execution_count": null,
   "metadata": {},
   "outputs": [],
   "source": []
  }
 ],
 "metadata": {
  "kernelspec": {
   "display_name": "Python 2",
   "language": "python",
   "name": "python2"
  },
  "language_info": {
   "codemirror_mode": {
    "name": "ipython",
    "version": 2
   },
   "file_extension": ".py",
   "mimetype": "text/x-python",
   "name": "python",
   "nbconvert_exporter": "python",
   "pygments_lexer": "ipython2",
   "version": "2.7.6"
  }
 },
 "nbformat": 4,
 "nbformat_minor": 0
}
